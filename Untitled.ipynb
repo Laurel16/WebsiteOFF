{
 "cells": [
  {
   "cell_type": "code",
   "execution_count": 21,
   "id": "complete-advisory",
   "metadata": {},
   "outputs": [
    {
     "data": {
      "text/plain": [
       "array([[[188, 216, 246],\n",
       "        [188, 216, 246],\n",
       "        [187, 215, 245],\n",
       "        ...,\n",
       "        [188, 218, 247],\n",
       "        [188, 218, 247],\n",
       "        [188, 218, 247]],\n",
       "\n",
       "       [[189, 217, 247],\n",
       "        [189, 217, 247],\n",
       "        [188, 216, 246],\n",
       "        ...,\n",
       "        [188, 218, 247],\n",
       "        [188, 218, 247],\n",
       "        [188, 218, 247]],\n",
       "\n",
       "       [[190, 218, 248],\n",
       "        [190, 218, 248],\n",
       "        [189, 217, 247],\n",
       "        ...,\n",
       "        [188, 218, 247],\n",
       "        [188, 218, 247],\n",
       "        [188, 218, 247]],\n",
       "\n",
       "       ...,\n",
       "\n",
       "       [[193, 220, 247],\n",
       "        [193, 220, 247],\n",
       "        [193, 220, 247],\n",
       "        ...,\n",
       "        [193, 216, 248],\n",
       "        [193, 216, 248],\n",
       "        [193, 216, 248]],\n",
       "\n",
       "       [[193, 220, 247],\n",
       "        [193, 220, 247],\n",
       "        [193, 220, 247],\n",
       "        ...,\n",
       "        [193, 216, 248],\n",
       "        [193, 216, 248],\n",
       "        [193, 216, 248]],\n",
       "\n",
       "       [[193, 220, 247],\n",
       "        [193, 220, 247],\n",
       "        [192, 219, 246],\n",
       "        ...,\n",
       "        [193, 216, 248],\n",
       "        [193, 216, 248],\n",
       "        [193, 216, 248]]], dtype=uint8)"
      ]
     },
     "execution_count": 21,
     "metadata": {},
     "output_type": "execute_result"
    }
   ],
   "source": [
    "import cv2 \n",
    "import pytesseract\n",
    "\n",
    "ingredients = cv2.imread('/Users/laureleter/Downloads/ocr.jpg')\n",
    "# Adding custom options (faut lire la doc pour ces paramètres)\n",
    "# https://ai-facets.org/tesseract-ocr-best-practices/\n",
    "ingredients"
   ]
  },
  {
   "cell_type": "code",
   "execution_count": 22,
   "id": "dutch-circulation",
   "metadata": {},
   "outputs": [
    {
     "name": "stdout",
     "output_type": "stream",
     "text": [
      "      \n",
      "     \n",
      "   \n",
      "   \n",
      "    \n",
      "   \n",
      "\n",
      "Ingrédients: Farine complète de seigle,\n",
      "farine de seigle (29 g*), levure, sel.\n",
      "Peut contenir des traces de lait et de graines\n",
      "de sésame. Les ingrédients en gras EU\n",
      "provoquer une réaction chez les personnes\n",
      "couffrant d'allergies ou d'intolérances\n",
      "alimentaires, *en g pour 100 g de produit\n",
      "\f",
      "\n"
     ]
    }
   ],
   "source": [
    "custom_config = r'--oem 3 --psm 4'\n",
    "\n",
    "text = pytesseract.image_to_string(ingredients, config=custom_config, lang=\"fra\")\n",
    "print(text)"
   ]
  },
  {
   "cell_type": "code",
   "execution_count": 10,
   "id": "several-pencil",
   "metadata": {},
   "outputs": [
    {
     "data": {
      "text/plain": [
       "(1253, 2845, 3)"
      ]
     },
     "execution_count": 10,
     "metadata": {},
     "output_type": "execute_result"
    }
   ],
   "source": [
    "ingredients.shape"
   ]
  },
  {
   "cell_type": "code",
   "execution_count": 12,
   "id": "magnetic-thesaurus",
   "metadata": {},
   "outputs": [
    {
     "data": {
      "text/plain": [
       "array([[[188, 218, 247],\n",
       "        [187, 217, 246],\n",
       "        [187, 215, 245],\n",
       "        ...,\n",
       "        [188, 217, 244],\n",
       "        [186, 216, 245],\n",
       "        [188, 218, 247]],\n",
       "\n",
       "       [[188, 218, 247],\n",
       "        [188, 218, 247],\n",
       "        [188, 216, 246],\n",
       "        ...,\n",
       "        [187, 216, 243],\n",
       "        [187, 217, 246],\n",
       "        [187, 217, 246]],\n",
       "\n",
       "       [[187, 217, 246],\n",
       "        [186, 216, 245],\n",
       "        [188, 216, 246],\n",
       "        ...,\n",
       "        [188, 217, 244],\n",
       "        [187, 217, 246],\n",
       "        [187, 217, 246]],\n",
       "\n",
       "       ...,\n",
       "\n",
       "       [[194, 221, 248],\n",
       "        [195, 219, 247],\n",
       "        [196, 219, 248],\n",
       "        ...,\n",
       "        [192, 218, 248],\n",
       "        [193, 217, 247],\n",
       "        [195, 218, 249]],\n",
       "\n",
       "       [[195, 219, 247],\n",
       "        [193, 217, 245],\n",
       "        [194, 218, 246],\n",
       "        ...,\n",
       "        [192, 217, 249],\n",
       "        [193, 217, 249],\n",
       "        [194, 217, 249]],\n",
       "\n",
       "       [[192, 219, 246],\n",
       "        [193, 218, 244],\n",
       "        [193, 220, 247],\n",
       "        ...,\n",
       "        [191, 216, 248],\n",
       "        [191, 216, 248],\n",
       "        [193, 216, 248]]], dtype=uint8)"
      ]
     },
     "execution_count": 12,
     "metadata": {},
     "output_type": "execute_result"
    }
   ],
   "source": [
    "cv2.resize(ingredients, (256,256))"
   ]
  },
  {
   "cell_type": "code",
   "execution_count": null,
   "id": "minimal-sensitivity",
   "metadata": {},
   "outputs": [],
   "source": []
  }
 ],
 "metadata": {
  "kernelspec": {
   "display_name": "Python 3",
   "language": "python",
   "name": "python3"
  },
  "language_info": {
   "codemirror_mode": {
    "name": "ipython",
    "version": 3
   },
   "file_extension": ".py",
   "mimetype": "text/x-python",
   "name": "python",
   "nbconvert_exporter": "python",
   "pygments_lexer": "ipython3",
   "version": "3.8.6"
  },
  "latex_envs": {
   "LaTeX_envs_menu_present": true,
   "autoclose": false,
   "autocomplete": true,
   "bibliofile": "biblio.bib",
   "cite_by": "apalike",
   "current_citInitial": 1,
   "eqLabelWithNumbers": true,
   "eqNumInitial": 1,
   "hotkeys": {
    "equation": "Ctrl-E",
    "itemize": "Ctrl-I"
   },
   "labels_anchors": false,
   "latex_user_defs": false,
   "report_style_numbering": false,
   "user_envs_cfg": false
  },
  "toc": {
   "base_numbering": 1,
   "nav_menu": {},
   "number_sections": true,
   "sideBar": true,
   "skip_h1_title": false,
   "title_cell": "Table of Contents",
   "title_sidebar": "Contents",
   "toc_cell": false,
   "toc_position": {},
   "toc_section_display": true,
   "toc_window_display": false
  },
  "varInspector": {
   "cols": {
    "lenName": 16,
    "lenType": 16,
    "lenVar": 40
   },
   "kernels_config": {
    "python": {
     "delete_cmd_postfix": "",
     "delete_cmd_prefix": "del ",
     "library": "var_list.py",
     "varRefreshCmd": "print(var_dic_list())"
    },
    "r": {
     "delete_cmd_postfix": ") ",
     "delete_cmd_prefix": "rm(",
     "library": "var_list.r",
     "varRefreshCmd": "cat(var_dic_list()) "
    }
   },
   "types_to_exclude": [
    "module",
    "function",
    "builtin_function_or_method",
    "instance",
    "_Feature"
   ],
   "window_display": false
  }
 },
 "nbformat": 4,
 "nbformat_minor": 5
}
